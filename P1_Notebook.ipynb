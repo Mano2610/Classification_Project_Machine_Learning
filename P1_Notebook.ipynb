{
 "cells": [
  {
   "cell_type": "markdown",
   "metadata": {},
   "source": [
    "### Part A"
   ]
  },
  {
   "cell_type": "code",
   "execution_count": 1,
   "metadata": {},
   "outputs": [],
   "source": [
    "#libraries\n",
    "\n",
    "import pandas as pd\n",
    "import numpy as np\n",
    "import matplotlib.pyplot as plt\n",
    "%matplotlib inline\n",
    "import seaborn as sns\n",
    "from sklearn.model_selection import train_test_split\n",
    "from sklearn.tree import DecisionTreeClassifier\n",
    "from sklearn.metrics import confusion_matrix,classification_report,accuracy_score"
   ]
  },
  {
   "cell_type": "code",
   "execution_count": 2,
   "metadata": {},
   "outputs": [],
   "source": [
    "df_main = pd.read_csv('P1_Data.csv')"
   ]
  },
  {
   "cell_type": "code",
   "execution_count": 3,
   "metadata": {},
   "outputs": [],
   "source": [
    "df = df_main.copy()"
   ]
  },
  {
   "cell_type": "code",
   "execution_count": 4,
   "metadata": {
    "scrolled": false
   },
   "outputs": [
    {
     "data": {
      "text/html": [
       "<div>\n",
       "<style scoped>\n",
       "    .dataframe tbody tr th:only-of-type {\n",
       "        vertical-align: middle;\n",
       "    }\n",
       "\n",
       "    .dataframe tbody tr th {\n",
       "        vertical-align: top;\n",
       "    }\n",
       "\n",
       "    .dataframe thead th {\n",
       "        text-align: right;\n",
       "    }\n",
       "</style>\n",
       "<table border=\"1\" class=\"dataframe\">\n",
       "  <thead>\n",
       "    <tr style=\"text-align: right;\">\n",
       "      <th></th>\n",
       "      <th>F1</th>\n",
       "      <th>F2</th>\n",
       "      <th>F3</th>\n",
       "      <th>F4</th>\n",
       "      <th>F5</th>\n",
       "      <th>F6</th>\n",
       "      <th>F7</th>\n",
       "      <th>F8</th>\n",
       "      <th>F9</th>\n",
       "      <th>F10</th>\n",
       "      <th>...</th>\n",
       "      <th>F13</th>\n",
       "      <th>F14</th>\n",
       "      <th>F15</th>\n",
       "      <th>F16</th>\n",
       "      <th>F17</th>\n",
       "      <th>F18</th>\n",
       "      <th>F19</th>\n",
       "      <th>F20</th>\n",
       "      <th>F21</th>\n",
       "      <th>Class</th>\n",
       "    </tr>\n",
       "  </thead>\n",
       "  <tbody>\n",
       "    <tr>\n",
       "      <th>0</th>\n",
       "      <td>1.6430</td>\n",
       "      <td>0</td>\n",
       "      <td>-4894.24</td>\n",
       "      <td>-13.0281</td>\n",
       "      <td>-4.793400</td>\n",
       "      <td>0</td>\n",
       "      <td>5.1270</td>\n",
       "      <td>-17.1100</td>\n",
       "      <td>-63.340</td>\n",
       "      <td>3.61690</td>\n",
       "      <td>...</td>\n",
       "      <td>5.783440</td>\n",
       "      <td>-11315.46</td>\n",
       "      <td>22912.53</td>\n",
       "      <td>-0.4</td>\n",
       "      <td>103811.34</td>\n",
       "      <td>5.4380</td>\n",
       "      <td>1747.920</td>\n",
       "      <td>-4879.68</td>\n",
       "      <td>-41.58</td>\n",
       "      <td>False</td>\n",
       "    </tr>\n",
       "    <tr>\n",
       "      <th>1</th>\n",
       "      <td>0.5310</td>\n",
       "      <td>0</td>\n",
       "      <td>-5085.44</td>\n",
       "      <td>-16.2210</td>\n",
       "      <td>-3.991776</td>\n",
       "      <td>0</td>\n",
       "      <td>4.6256</td>\n",
       "      <td>-4.5800</td>\n",
       "      <td>-10.314</td>\n",
       "      <td>3.64880</td>\n",
       "      <td>...</td>\n",
       "      <td>8.180000</td>\n",
       "      <td>-12852.96</td>\n",
       "      <td>25696.44</td>\n",
       "      <td>-0.4</td>\n",
       "      <td>103884.02</td>\n",
       "      <td>5.0960</td>\n",
       "      <td>1496.080</td>\n",
       "      <td>-4186.38</td>\n",
       "      <td>-45.96</td>\n",
       "      <td>True</td>\n",
       "    </tr>\n",
       "    <tr>\n",
       "      <th>2</th>\n",
       "      <td>0.2640</td>\n",
       "      <td>0</td>\n",
       "      <td>-7021.44</td>\n",
       "      <td>-11.7591</td>\n",
       "      <td>-6.161700</td>\n",
       "      <td>0</td>\n",
       "      <td>4.3628</td>\n",
       "      <td>-14.7118</td>\n",
       "      <td>-6.806</td>\n",
       "      <td>3.62830</td>\n",
       "      <td>...</td>\n",
       "      <td>5.760312</td>\n",
       "      <td>-11012.16</td>\n",
       "      <td>20232.84</td>\n",
       "      <td>-1.4</td>\n",
       "      <td>103987.08</td>\n",
       "      <td>2.3652</td>\n",
       "      <td>1523.412</td>\n",
       "      <td>-4067.28</td>\n",
       "      <td>NaN</td>\n",
       "      <td>False</td>\n",
       "    </tr>\n",
       "    <tr>\n",
       "      <th>3</th>\n",
       "      <td>0.3196</td>\n",
       "      <td>1</td>\n",
       "      <td>-4648.76</td>\n",
       "      <td>-11.8110</td>\n",
       "      <td>-4.217700</td>\n",
       "      <td>0</td>\n",
       "      <td>8.9380</td>\n",
       "      <td>-7.5360</td>\n",
       "      <td>-4.670</td>\n",
       "      <td>3.01503</td>\n",
       "      <td>...</td>\n",
       "      <td>6.437100</td>\n",
       "      <td>-10297.86</td>\n",
       "      <td>23592.84</td>\n",
       "      <td>-1.4</td>\n",
       "      <td>103842.08</td>\n",
       "      <td>4.4080</td>\n",
       "      <td>1506.810</td>\n",
       "      <td>1352.52</td>\n",
       "      <td>NaN</td>\n",
       "      <td>True</td>\n",
       "    </tr>\n",
       "    <tr>\n",
       "      <th>4</th>\n",
       "      <td>4.0800</td>\n",
       "      <td>0</td>\n",
       "      <td>-4877.20</td>\n",
       "      <td>-11.2635</td>\n",
       "      <td>-8.061000</td>\n",
       "      <td>1</td>\n",
       "      <td>6.2800</td>\n",
       "      <td>-14.5805</td>\n",
       "      <td>-45.920</td>\n",
       "      <td>3.60030</td>\n",
       "      <td>...</td>\n",
       "      <td>6.393200</td>\n",
       "      <td>-11527.38</td>\n",
       "      <td>24778.74</td>\n",
       "      <td>-1.4</td>\n",
       "      <td>103842.48</td>\n",
       "      <td>3.1334</td>\n",
       "      <td>1581.790</td>\n",
       "      <td>-5095.88</td>\n",
       "      <td>-45.93</td>\n",
       "      <td>True</td>\n",
       "    </tr>\n",
       "  </tbody>\n",
       "</table>\n",
       "<p>5 rows × 22 columns</p>\n",
       "</div>"
      ],
      "text/plain": [
       "       F1  F2       F3       F4        F5  F6      F7       F8      F9  \\\n",
       "0  1.6430   0 -4894.24 -13.0281 -4.793400   0  5.1270 -17.1100 -63.340   \n",
       "1  0.5310   0 -5085.44 -16.2210 -3.991776   0  4.6256  -4.5800 -10.314   \n",
       "2  0.2640   0 -7021.44 -11.7591 -6.161700   0  4.3628 -14.7118  -6.806   \n",
       "3  0.3196   1 -4648.76 -11.8110 -4.217700   0  8.9380  -7.5360  -4.670   \n",
       "4  4.0800   0 -4877.20 -11.2635 -8.061000   1  6.2800 -14.5805 -45.920   \n",
       "\n",
       "       F10  ...       F13       F14       F15  F16        F17     F18  \\\n",
       "0  3.61690  ...  5.783440 -11315.46  22912.53 -0.4  103811.34  5.4380   \n",
       "1  3.64880  ...  8.180000 -12852.96  25696.44 -0.4  103884.02  5.0960   \n",
       "2  3.62830  ...  5.760312 -11012.16  20232.84 -1.4  103987.08  2.3652   \n",
       "3  3.01503  ...  6.437100 -10297.86  23592.84 -1.4  103842.08  4.4080   \n",
       "4  3.60030  ...  6.393200 -11527.38  24778.74 -1.4  103842.48  3.1334   \n",
       "\n",
       "        F19      F20    F21  Class  \n",
       "0  1747.920 -4879.68 -41.58  False  \n",
       "1  1496.080 -4186.38 -45.96   True  \n",
       "2  1523.412 -4067.28    NaN  False  \n",
       "3  1506.810  1352.52    NaN   True  \n",
       "4  1581.790 -5095.88 -45.93   True  \n",
       "\n",
       "[5 rows x 22 columns]"
      ]
     },
     "execution_count": 4,
     "metadata": {},
     "output_type": "execute_result"
    }
   ],
   "source": [
    "df.head()"
   ]
  },
  {
   "cell_type": "code",
   "execution_count": 5,
   "metadata": {
    "scrolled": true
   },
   "outputs": [
    {
     "name": "stdout",
     "output_type": "stream",
     "text": [
      "<class 'pandas.core.frame.DataFrame'>\n",
      "RangeIndex: 1000 entries, 0 to 999\n",
      "Data columns (total 22 columns):\n",
      " #   Column  Non-Null Count  Dtype  \n",
      "---  ------  --------------  -----  \n",
      " 0   F1      1000 non-null   float64\n",
      " 1   F2      1000 non-null   int64  \n",
      " 2   F3      1000 non-null   float64\n",
      " 3   F4      1000 non-null   float64\n",
      " 4   F5      1000 non-null   float64\n",
      " 5   F6      1000 non-null   int64  \n",
      " 6   F7      1000 non-null   float64\n",
      " 7   F8      1000 non-null   float64\n",
      " 8   F9      1000 non-null   float64\n",
      " 9   F10     1000 non-null   float64\n",
      " 10  F11     1000 non-null   float64\n",
      " 11  F12     1000 non-null   float64\n",
      " 12  F13     1000 non-null   float64\n",
      " 13  F14     1000 non-null   float64\n",
      " 14  F15     1000 non-null   float64\n",
      " 15  F16     1000 non-null   float64\n",
      " 16  F17     1000 non-null   float64\n",
      " 17  F18     1000 non-null   float64\n",
      " 18  F19     1000 non-null   float64\n",
      " 19  F20     1000 non-null   float64\n",
      " 20  F21     500 non-null    float64\n",
      " 21  Class   1000 non-null   bool   \n",
      "dtypes: bool(1), float64(19), int64(2)\n",
      "memory usage: 165.2 KB\n"
     ]
    }
   ],
   "source": [
    "df.info()"
   ]
  },
  {
   "cell_type": "code",
   "execution_count": 6,
   "metadata": {
    "scrolled": true
   },
   "outputs": [
    {
     "data": {
      "text/html": [
       "<div>\n",
       "<style scoped>\n",
       "    .dataframe tbody tr th:only-of-type {\n",
       "        vertical-align: middle;\n",
       "    }\n",
       "\n",
       "    .dataframe tbody tr th {\n",
       "        vertical-align: top;\n",
       "    }\n",
       "\n",
       "    .dataframe thead th {\n",
       "        text-align: right;\n",
       "    }\n",
       "</style>\n",
       "<table border=\"1\" class=\"dataframe\">\n",
       "  <thead>\n",
       "    <tr style=\"text-align: right;\">\n",
       "      <th></th>\n",
       "      <th>F1</th>\n",
       "      <th>F2</th>\n",
       "      <th>F3</th>\n",
       "      <th>F4</th>\n",
       "      <th>F5</th>\n",
       "      <th>F6</th>\n",
       "      <th>F7</th>\n",
       "      <th>F8</th>\n",
       "      <th>F9</th>\n",
       "      <th>F10</th>\n",
       "      <th>...</th>\n",
       "      <th>F12</th>\n",
       "      <th>F13</th>\n",
       "      <th>F14</th>\n",
       "      <th>F15</th>\n",
       "      <th>F16</th>\n",
       "      <th>F17</th>\n",
       "      <th>F18</th>\n",
       "      <th>F19</th>\n",
       "      <th>F20</th>\n",
       "      <th>F21</th>\n",
       "    </tr>\n",
       "  </thead>\n",
       "  <tbody>\n",
       "    <tr>\n",
       "      <th>count</th>\n",
       "      <td>1000.000000</td>\n",
       "      <td>1000.000000</td>\n",
       "      <td>1000.000000</td>\n",
       "      <td>1000.000000</td>\n",
       "      <td>1000.000000</td>\n",
       "      <td>1000.000000</td>\n",
       "      <td>1000.000000</td>\n",
       "      <td>1000.000000</td>\n",
       "      <td>1000.000000</td>\n",
       "      <td>1000.000000</td>\n",
       "      <td>...</td>\n",
       "      <td>1000.000000</td>\n",
       "      <td>1000.000000</td>\n",
       "      <td>1000.000000</td>\n",
       "      <td>1000.000000</td>\n",
       "      <td>1000.000000</td>\n",
       "      <td>1000.000000</td>\n",
       "      <td>1000.000000</td>\n",
       "      <td>1000.000000</td>\n",
       "      <td>1000.000000</td>\n",
       "      <td>500.000000</td>\n",
       "    </tr>\n",
       "    <tr>\n",
       "      <th>mean</th>\n",
       "      <td>1.067873</td>\n",
       "      <td>0.507000</td>\n",
       "      <td>-5361.832102</td>\n",
       "      <td>-13.230040</td>\n",
       "      <td>-6.313792</td>\n",
       "      <td>0.481000</td>\n",
       "      <td>5.890532</td>\n",
       "      <td>-14.141708</td>\n",
       "      <td>-20.424599</td>\n",
       "      <td>3.938608</td>\n",
       "      <td>...</td>\n",
       "      <td>-3.621917</td>\n",
       "      <td>6.244264</td>\n",
       "      <td>-11630.293754</td>\n",
       "      <td>24105.732399</td>\n",
       "      <td>-0.929000</td>\n",
       "      <td>103949.541430</td>\n",
       "      <td>3.988717</td>\n",
       "      <td>1451.053607</td>\n",
       "      <td>-3933.396979</td>\n",
       "      <td>-44.650560</td>\n",
       "    </tr>\n",
       "    <tr>\n",
       "      <th>std</th>\n",
       "      <td>0.902763</td>\n",
       "      <td>0.500201</td>\n",
       "      <td>1494.941683</td>\n",
       "      <td>2.560369</td>\n",
       "      <td>1.842535</td>\n",
       "      <td>0.499889</td>\n",
       "      <td>1.799838</td>\n",
       "      <td>4.861641</td>\n",
       "      <td>20.571395</td>\n",
       "      <td>0.901204</td>\n",
       "      <td>...</td>\n",
       "      <td>1.805553</td>\n",
       "      <td>0.671938</td>\n",
       "      <td>1534.747192</td>\n",
       "      <td>3111.533532</td>\n",
       "      <td>0.499408</td>\n",
       "      <td>3376.459607</td>\n",
       "      <td>1.739357</td>\n",
       "      <td>246.538717</td>\n",
       "      <td>1405.781722</td>\n",
       "      <td>3.188244</td>\n",
       "    </tr>\n",
       "    <tr>\n",
       "      <th>min</th>\n",
       "      <td>0.112200</td>\n",
       "      <td>0.000000</td>\n",
       "      <td>-15323.440000</td>\n",
       "      <td>-23.889000</td>\n",
       "      <td>-14.613000</td>\n",
       "      <td>0.000000</td>\n",
       "      <td>3.942760</td>\n",
       "      <td>-29.850000</td>\n",
       "      <td>-163.680000</td>\n",
       "      <td>3.002990</td>\n",
       "      <td>...</td>\n",
       "      <td>-10.616000</td>\n",
       "      <td>5.760001</td>\n",
       "      <td>-23402.760000</td>\n",
       "      <td>10433.640000</td>\n",
       "      <td>-1.400000</td>\n",
       "      <td>96416.660000</td>\n",
       "      <td>2.144440</td>\n",
       "      <td>-139.080000</td>\n",
       "      <td>-11393.480000</td>\n",
       "      <td>-54.960000</td>\n",
       "    </tr>\n",
       "    <tr>\n",
       "      <th>25%</th>\n",
       "      <td>0.396475</td>\n",
       "      <td>0.000000</td>\n",
       "      <td>-5523.540000</td>\n",
       "      <td>-14.325000</td>\n",
       "      <td>-7.453500</td>\n",
       "      <td>0.000000</td>\n",
       "      <td>4.487150</td>\n",
       "      <td>-17.209750</td>\n",
       "      <td>-26.025000</td>\n",
       "      <td>3.261825</td>\n",
       "      <td>...</td>\n",
       "      <td>-4.447000</td>\n",
       "      <td>5.803685</td>\n",
       "      <td>-12032.460000</td>\n",
       "      <td>22905.300000</td>\n",
       "      <td>-1.400000</td>\n",
       "      <td>103814.590000</td>\n",
       "      <td>2.686650</td>\n",
       "      <td>1437.582500</td>\n",
       "      <td>-4495.635000</td>\n",
       "      <td>-46.875000</td>\n",
       "    </tr>\n",
       "    <tr>\n",
       "      <th>50%</th>\n",
       "      <td>0.783700</td>\n",
       "      <td>1.000000</td>\n",
       "      <td>-4984.540000</td>\n",
       "      <td>-12.416250</td>\n",
       "      <td>-5.912250</td>\n",
       "      <td>0.000000</td>\n",
       "      <td>5.309600</td>\n",
       "      <td>-14.180050</td>\n",
       "      <td>-14.284000</td>\n",
       "      <td>3.657250</td>\n",
       "      <td>...</td>\n",
       "      <td>-3.064500</td>\n",
       "      <td>5.993600</td>\n",
       "      <td>-11597.425500</td>\n",
       "      <td>23486.040000</td>\n",
       "      <td>-1.400000</td>\n",
       "      <td>103852.225000</td>\n",
       "      <td>3.478100</td>\n",
       "      <td>1504.890000</td>\n",
       "      <td>-4210.100000</td>\n",
       "      <td>-44.505000</td>\n",
       "    </tr>\n",
       "    <tr>\n",
       "      <th>75%</th>\n",
       "      <td>1.464250</td>\n",
       "      <td>1.000000</td>\n",
       "      <td>-4731.133500</td>\n",
       "      <td>-11.337000</td>\n",
       "      <td>-4.853100</td>\n",
       "      <td>1.000000</td>\n",
       "      <td>6.856500</td>\n",
       "      <td>-11.066750</td>\n",
       "      <td>-6.504000</td>\n",
       "      <td>4.307000</td>\n",
       "      <td>...</td>\n",
       "      <td>-2.234900</td>\n",
       "      <td>6.399525</td>\n",
       "      <td>-11223.660000</td>\n",
       "      <td>24446.265000</td>\n",
       "      <td>-0.400000</td>\n",
       "      <td>103890.880000</td>\n",
       "      <td>4.759000</td>\n",
       "      <td>1537.961250</td>\n",
       "      <td>-3746.730000</td>\n",
       "      <td>-42.450000</td>\n",
       "    </tr>\n",
       "    <tr>\n",
       "      <th>max</th>\n",
       "      <td>4.602000</td>\n",
       "      <td>1.000000</td>\n",
       "      <td>2722.560000</td>\n",
       "      <td>-10.533870</td>\n",
       "      <td>-3.991776</td>\n",
       "      <td>1.000000</td>\n",
       "      <td>12.744000</td>\n",
       "      <td>5.030000</td>\n",
       "      <td>-0.124656</td>\n",
       "      <td>7.555000</td>\n",
       "      <td>...</td>\n",
       "      <td>-1.644240</td>\n",
       "      <td>11.578000</td>\n",
       "      <td>-1190.760000</td>\n",
       "      <td>47423.640000</td>\n",
       "      <td>-0.400000</td>\n",
       "      <td>209390.660000</td>\n",
       "      <td>11.170000</td>\n",
       "      <td>3091.920000</td>\n",
       "      <td>5696.520000</td>\n",
       "      <td>-34.530000</td>\n",
       "    </tr>\n",
       "  </tbody>\n",
       "</table>\n",
       "<p>8 rows × 21 columns</p>\n",
       "</div>"
      ],
      "text/plain": [
       "                F1           F2            F3           F4           F5  \\\n",
       "count  1000.000000  1000.000000   1000.000000  1000.000000  1000.000000   \n",
       "mean      1.067873     0.507000  -5361.832102   -13.230040    -6.313792   \n",
       "std       0.902763     0.500201   1494.941683     2.560369     1.842535   \n",
       "min       0.112200     0.000000 -15323.440000   -23.889000   -14.613000   \n",
       "25%       0.396475     0.000000  -5523.540000   -14.325000    -7.453500   \n",
       "50%       0.783700     1.000000  -4984.540000   -12.416250    -5.912250   \n",
       "75%       1.464250     1.000000  -4731.133500   -11.337000    -4.853100   \n",
       "max       4.602000     1.000000   2722.560000   -10.533870    -3.991776   \n",
       "\n",
       "                F6           F7           F8           F9          F10  ...  \\\n",
       "count  1000.000000  1000.000000  1000.000000  1000.000000  1000.000000  ...   \n",
       "mean      0.481000     5.890532   -14.141708   -20.424599     3.938608  ...   \n",
       "std       0.499889     1.799838     4.861641    20.571395     0.901204  ...   \n",
       "min       0.000000     3.942760   -29.850000  -163.680000     3.002990  ...   \n",
       "25%       0.000000     4.487150   -17.209750   -26.025000     3.261825  ...   \n",
       "50%       0.000000     5.309600   -14.180050   -14.284000     3.657250  ...   \n",
       "75%       1.000000     6.856500   -11.066750    -6.504000     4.307000  ...   \n",
       "max       1.000000    12.744000     5.030000    -0.124656     7.555000  ...   \n",
       "\n",
       "               F12          F13           F14           F15          F16  \\\n",
       "count  1000.000000  1000.000000   1000.000000   1000.000000  1000.000000   \n",
       "mean     -3.621917     6.244264 -11630.293754  24105.732399    -0.929000   \n",
       "std       1.805553     0.671938   1534.747192   3111.533532     0.499408   \n",
       "min     -10.616000     5.760001 -23402.760000  10433.640000    -1.400000   \n",
       "25%      -4.447000     5.803685 -12032.460000  22905.300000    -1.400000   \n",
       "50%      -3.064500     5.993600 -11597.425500  23486.040000    -1.400000   \n",
       "75%      -2.234900     6.399525 -11223.660000  24446.265000    -0.400000   \n",
       "max      -1.644240    11.578000  -1190.760000  47423.640000    -0.400000   \n",
       "\n",
       "                 F17          F18          F19           F20         F21  \n",
       "count    1000.000000  1000.000000  1000.000000   1000.000000  500.000000  \n",
       "mean   103949.541430     3.988717  1451.053607  -3933.396979  -44.650560  \n",
       "std      3376.459607     1.739357   246.538717   1405.781722    3.188244  \n",
       "min     96416.660000     2.144440  -139.080000 -11393.480000  -54.960000  \n",
       "25%    103814.590000     2.686650  1437.582500  -4495.635000  -46.875000  \n",
       "50%    103852.225000     3.478100  1504.890000  -4210.100000  -44.505000  \n",
       "75%    103890.880000     4.759000  1537.961250  -3746.730000  -42.450000  \n",
       "max    209390.660000    11.170000  3091.920000   5696.520000  -34.530000  \n",
       "\n",
       "[8 rows x 21 columns]"
      ]
     },
     "execution_count": 6,
     "metadata": {},
     "output_type": "execute_result"
    }
   ],
   "source": [
    "df.describe()"
   ]
  },
  {
   "cell_type": "code",
   "execution_count": 7,
   "metadata": {},
   "outputs": [
    {
     "data": {
      "text/plain": [
       "True     506\n",
       "False    494\n",
       "Name: Class, dtype: int64"
      ]
     },
     "execution_count": 7,
     "metadata": {},
     "output_type": "execute_result"
    }
   ],
   "source": [
    "df[\"Class\"].value_counts()"
   ]
  },
  {
   "cell_type": "code",
   "execution_count": 8,
   "metadata": {
    "scrolled": true
   },
   "outputs": [
    {
     "data": {
      "text/plain": [
       "<function matplotlib.pyplot.show(close=None, block=None)>"
      ]
     },
     "execution_count": 8,
     "metadata": {},
     "output_type": "execute_result"
    },
    {
     "data": {
      "image/png": "[encoded data removed]",
      "text/plain": [
       "<Figure size 340.5x340.5 with 1 Axes>"
      ]
     },
     "metadata": {},
     "output_type": "display_data"
    }
   ],
   "source": [
    "labels = [\"False\", \"True\"]\n",
    "Val=df[\"Class\"].value_counts(sort=0)\n",
    "plt.figure(figsize=(1.5,1.5), dpi=227)\n",
    "plt.pie(Val, labels=labels, textprops={'fontsize':6}, startangle=0, autopct='%1.1f%%')\n",
    "plt.show"
   ]
  },
  {
   "cell_type": "markdown",
   "metadata": {},
   "source": [
    "Visualisation to check whether the data is balanced or not.\n",
    "\n",
    "Here, True data is 506 and False data is 494. Its not quite bad, so we can proceed with the data without adding or removing any data's."
   ]
  },
  {
   "cell_type": "markdown",
   "metadata": {},
   "source": [
    "### Missing Values"
   ]
  },
  {
   "cell_type": "code",
   "execution_count": 9,
   "metadata": {
    "scrolled": true
   },
   "outputs": [
    {
     "data": {
      "text/plain": [
       "F1         0\n",
       "F2         0\n",
       "F3         0\n",
       "F4         0\n",
       "F5         0\n",
       "F6         0\n",
       "F7         0\n",
       "F8         0\n",
       "F9         0\n",
       "F10        0\n",
       "F11        0\n",
       "F12        0\n",
       "F13        0\n",
       "F14        0\n",
       "F15        0\n",
       "F16        0\n",
       "F17        0\n",
       "F18        0\n",
       "F19        0\n",
       "F20        0\n",
       "F21      500\n",
       "Class      0\n",
       "dtype: int64"
      ]
     },
     "execution_count": 9,
     "metadata": {},
     "output_type": "execute_result"
    }
   ],
   "source": [
    "df.isnull().sum()"
   ]
  },
  {
   "cell_type": "markdown",
   "metadata": {},
   "source": [
    "Graphical representation to find the missing values in the dataset."
   ]
  },
  {
   "cell_type": "code",
   "execution_count": 10,
   "metadata": {},
   "outputs": [
    {
     "data": {
      "text/plain": [
       "[<matplotlib.lines.Line2D at 0x20bb340c190>]"
      ]
     },
     "execution_count": 10,
     "metadata": {},
     "output_type": "execute_result"
    },
    {
     "data": {
      "image/png": "[encoded data removed]",
      "text/plain": [
       "<Figure size 864x288 with 1 Axes>"
      ]
     },
     "metadata": {
      "needs_background": "light"
     },
     "output_type": "display_data"
    }
   ],
   "source": [
    "plt.figure(figsize=(12,4))\n",
    "plt.plot(df.isnull().sum(), 'r*--')"
   ]
  },
  {
   "cell_type": "markdown",
   "metadata": {},
   "source": [
    "# Removing the missing feature \"F21\" from the dataset"
   ]
  },
  {
   "cell_type": "code",
   "execution_count": 11,
   "metadata": {
    "scrolled": true
   },
   "outputs": [],
   "source": [
    "df=df.drop(\"F21\", axis=1)"
   ]
  },
  {
   "cell_type": "code",
   "execution_count": 12,
   "metadata": {},
   "outputs": [
    {
     "data": {
      "text/html": [
       "<div>\n",
       "<style scoped>\n",
       "    .dataframe tbody tr th:only-of-type {\n",
       "        vertical-align: middle;\n",
       "    }\n",
       "\n",
       "    .dataframe tbody tr th {\n",
       "        vertical-align: top;\n",
       "    }\n",
       "\n",
       "    .dataframe thead th {\n",
       "        text-align: right;\n",
       "    }\n",
       "</style>\n",
       "<table border=\"1\" class=\"dataframe\">\n",
       "  <thead>\n",
       "    <tr style=\"text-align: right;\">\n",
       "      <th></th>\n",
       "      <th>F1</th>\n",
       "      <th>F2</th>\n",
       "      <th>F3</th>\n",
       "      <th>F4</th>\n",
       "      <th>F5</th>\n",
       "      <th>F6</th>\n",
       "      <th>F7</th>\n",
       "      <th>F8</th>\n",
       "      <th>F9</th>\n",
       "      <th>F10</th>\n",
       "      <th>...</th>\n",
       "      <th>F12</th>\n",
       "      <th>F13</th>\n",
       "      <th>F14</th>\n",
       "      <th>F15</th>\n",
       "      <th>F16</th>\n",
       "      <th>F17</th>\n",
       "      <th>F18</th>\n",
       "      <th>F19</th>\n",
       "      <th>F20</th>\n",
       "      <th>Class</th>\n",
       "    </tr>\n",
       "  </thead>\n",
       "  <tbody>\n",
       "    <tr>\n",
       "      <th>F1</th>\n",
       "      <td>1.000000</td>\n",
       "      <td>-0.006990</td>\n",
       "      <td>-0.049583</td>\n",
       "      <td>0.002111</td>\n",
       "      <td>0.006976</td>\n",
       "      <td>0.005681</td>\n",
       "      <td>0.039438</td>\n",
       "      <td>0.005632</td>\n",
       "      <td>-0.049179</td>\n",
       "      <td>-0.045470</td>\n",
       "      <td>...</td>\n",
       "      <td>0.036955</td>\n",
       "      <td>-0.025375</td>\n",
       "      <td>-0.002052</td>\n",
       "      <td>0.033486</td>\n",
       "      <td>0.014877</td>\n",
       "      <td>-0.019288</td>\n",
       "      <td>0.029807</td>\n",
       "      <td>-0.020761</td>\n",
       "      <td>-0.037730</td>\n",
       "      <td>0.048997</td>\n",
       "    </tr>\n",
       "    <tr>\n",
       "      <th>F2</th>\n",
       "      <td>-0.006990</td>\n",
       "      <td>1.000000</td>\n",
       "      <td>-0.009826</td>\n",
       "      <td>-0.050007</td>\n",
       "      <td>-0.007055</td>\n",
       "      <td>0.032559</td>\n",
       "      <td>0.012570</td>\n",
       "      <td>-0.042880</td>\n",
       "      <td>-0.011814</td>\n",
       "      <td>-0.016538</td>\n",
       "      <td>...</td>\n",
       "      <td>-0.049717</td>\n",
       "      <td>0.049109</td>\n",
       "      <td>-0.020466</td>\n",
       "      <td>-0.022925</td>\n",
       "      <td>-0.019222</td>\n",
       "      <td>-0.037403</td>\n",
       "      <td>-0.019879</td>\n",
       "      <td>0.070705</td>\n",
       "      <td>-0.019158</td>\n",
       "      <td>0.029837</td>\n",
       "    </tr>\n",
       "    <tr>\n",
       "      <th>F3</th>\n",
       "      <td>-0.049583</td>\n",
       "      <td>-0.009826</td>\n",
       "      <td>1.000000</td>\n",
       "      <td>0.006406</td>\n",
       "      <td>-0.004322</td>\n",
       "      <td>0.009380</td>\n",
       "      <td>0.003282</td>\n",
       "      <td>0.044698</td>\n",
       "      <td>0.001953</td>\n",
       "      <td>0.042462</td>\n",
       "      <td>...</td>\n",
       "      <td>0.004553</td>\n",
       "      <td>-0.062524</td>\n",
       "      <td>0.296979</td>\n",
       "      <td>0.042754</td>\n",
       "      <td>-0.000864</td>\n",
       "      <td>0.016463</td>\n",
       "      <td>0.287894</td>\n",
       "      <td>0.029493</td>\n",
       "      <td>0.123040</td>\n",
       "      <td>0.018274</td>\n",
       "    </tr>\n",
       "    <tr>\n",
       "      <th>F4</th>\n",
       "      <td>0.002111</td>\n",
       "      <td>-0.050007</td>\n",
       "      <td>0.006406</td>\n",
       "      <td>1.000000</td>\n",
       "      <td>-0.068408</td>\n",
       "      <td>-0.016058</td>\n",
       "      <td>-0.000217</td>\n",
       "      <td>-0.006108</td>\n",
       "      <td>-0.020217</td>\n",
       "      <td>0.027008</td>\n",
       "      <td>...</td>\n",
       "      <td>0.041286</td>\n",
       "      <td>-0.057872</td>\n",
       "      <td>0.063753</td>\n",
       "      <td>0.053769</td>\n",
       "      <td>0.012559</td>\n",
       "      <td>-0.045806</td>\n",
       "      <td>0.001481</td>\n",
       "      <td>0.037088</td>\n",
       "      <td>-0.033943</td>\n",
       "      <td>0.007510</td>\n",
       "    </tr>\n",
       "    <tr>\n",
       "      <th>F5</th>\n",
       "      <td>0.006976</td>\n",
       "      <td>-0.007055</td>\n",
       "      <td>-0.004322</td>\n",
       "      <td>-0.068408</td>\n",
       "      <td>1.000000</td>\n",
       "      <td>0.004205</td>\n",
       "      <td>-0.025508</td>\n",
       "      <td>-0.037295</td>\n",
       "      <td>-0.000686</td>\n",
       "      <td>-0.006901</td>\n",
       "      <td>...</td>\n",
       "      <td>0.005760</td>\n",
       "      <td>0.014207</td>\n",
       "      <td>0.008733</td>\n",
       "      <td>0.003705</td>\n",
       "      <td>0.031534</td>\n",
       "      <td>0.042314</td>\n",
       "      <td>0.064432</td>\n",
       "      <td>0.053084</td>\n",
       "      <td>0.044764</td>\n",
       "      <td>0.026389</td>\n",
       "    </tr>\n",
       "    <tr>\n",
       "      <th>F6</th>\n",
       "      <td>0.005681</td>\n",
       "      <td>0.032559</td>\n",
       "      <td>0.009380</td>\n",
       "      <td>-0.016058</td>\n",
       "      <td>0.004205</td>\n",
       "      <td>1.000000</td>\n",
       "      <td>0.025433</td>\n",
       "      <td>-0.067913</td>\n",
       "      <td>0.010262</td>\n",
       "      <td>0.022900</td>\n",
       "      <td>...</td>\n",
       "      <td>-0.000958</td>\n",
       "      <td>-0.030887</td>\n",
       "      <td>0.016723</td>\n",
       "      <td>-0.025854</td>\n",
       "      <td>0.025858</td>\n",
       "      <td>0.025180</td>\n",
       "      <td>0.024911</td>\n",
       "      <td>-0.024538</td>\n",
       "      <td>0.026289</td>\n",
       "      <td>0.010464</td>\n",
       "    </tr>\n",
       "    <tr>\n",
       "      <th>F7</th>\n",
       "      <td>0.039438</td>\n",
       "      <td>0.012570</td>\n",
       "      <td>0.003282</td>\n",
       "      <td>-0.000217</td>\n",
       "      <td>-0.025508</td>\n",
       "      <td>0.025433</td>\n",
       "      <td>1.000000</td>\n",
       "      <td>-0.019820</td>\n",
       "      <td>0.014276</td>\n",
       "      <td>-0.042789</td>\n",
       "      <td>...</td>\n",
       "      <td>-0.005135</td>\n",
       "      <td>-0.027272</td>\n",
       "      <td>0.037528</td>\n",
       "      <td>-0.228368</td>\n",
       "      <td>-0.002169</td>\n",
       "      <td>-0.014168</td>\n",
       "      <td>-0.003312</td>\n",
       "      <td>0.004320</td>\n",
       "      <td>0.004537</td>\n",
       "      <td>-0.022172</td>\n",
       "    </tr>\n",
       "    <tr>\n",
       "      <th>F8</th>\n",
       "      <td>0.005632</td>\n",
       "      <td>-0.042880</td>\n",
       "      <td>0.044698</td>\n",
       "      <td>-0.006108</td>\n",
       "      <td>-0.037295</td>\n",
       "      <td>-0.067913</td>\n",
       "      <td>-0.019820</td>\n",
       "      <td>1.000000</td>\n",
       "      <td>0.023469</td>\n",
       "      <td>-0.023646</td>\n",
       "      <td>...</td>\n",
       "      <td>0.020446</td>\n",
       "      <td>0.012373</td>\n",
       "      <td>-0.021339</td>\n",
       "      <td>-0.000878</td>\n",
       "      <td>-0.026336</td>\n",
       "      <td>0.003288</td>\n",
       "      <td>-0.001644</td>\n",
       "      <td>-0.047412</td>\n",
       "      <td>0.019980</td>\n",
       "      <td>0.027641</td>\n",
       "    </tr>\n",
       "    <tr>\n",
       "      <th>F9</th>\n",
       "      <td>-0.049179</td>\n",
       "      <td>-0.011814</td>\n",
       "      <td>0.001953</td>\n",
       "      <td>-0.020217</td>\n",
       "      <td>-0.000686</td>\n",
       "      <td>0.010262</td>\n",
       "      <td>0.014276</td>\n",
       "      <td>0.023469</td>\n",
       "      <td>1.000000</td>\n",
       "      <td>0.042713</td>\n",
       "      <td>...</td>\n",
       "      <td>-0.074935</td>\n",
       "      <td>0.005803</td>\n",
       "      <td>0.020361</td>\n",
       "      <td>-0.005679</td>\n",
       "      <td>0.014585</td>\n",
       "      <td>0.018965</td>\n",
       "      <td>-0.018222</td>\n",
       "      <td>-0.024747</td>\n",
       "      <td>0.012361</td>\n",
       "      <td>-0.045664</td>\n",
       "    </tr>\n",
       "    <tr>\n",
       "      <th>F10</th>\n",
       "      <td>-0.045470</td>\n",
       "      <td>-0.016538</td>\n",
       "      <td>0.042462</td>\n",
       "      <td>0.027008</td>\n",
       "      <td>-0.006901</td>\n",
       "      <td>0.022900</td>\n",
       "      <td>-0.042789</td>\n",
       "      <td>-0.023646</td>\n",
       "      <td>0.042713</td>\n",
       "      <td>1.000000</td>\n",
       "      <td>...</td>\n",
       "      <td>0.048212</td>\n",
       "      <td>-0.012591</td>\n",
       "      <td>0.041041</td>\n",
       "      <td>-0.055473</td>\n",
       "      <td>0.069944</td>\n",
       "      <td>0.037891</td>\n",
       "      <td>0.011183</td>\n",
       "      <td>-0.000167</td>\n",
       "      <td>-0.213338</td>\n",
       "      <td>-0.039024</td>\n",
       "    </tr>\n",
       "    <tr>\n",
       "      <th>F11</th>\n",
       "      <td>0.014594</td>\n",
       "      <td>-0.062860</td>\n",
       "      <td>-0.122382</td>\n",
       "      <td>0.236772</td>\n",
       "      <td>-0.061114</td>\n",
       "      <td>0.003917</td>\n",
       "      <td>0.003992</td>\n",
       "      <td>0.021023</td>\n",
       "      <td>0.003868</td>\n",
       "      <td>-0.005760</td>\n",
       "      <td>...</td>\n",
       "      <td>0.028827</td>\n",
       "      <td>-0.015558</td>\n",
       "      <td>-0.031391</td>\n",
       "      <td>-0.006837</td>\n",
       "      <td>-0.031515</td>\n",
       "      <td>-0.006606</td>\n",
       "      <td>0.009438</td>\n",
       "      <td>-0.010592</td>\n",
       "      <td>0.000484</td>\n",
       "      <td>0.216721</td>\n",
       "    </tr>\n",
       "    <tr>\n",
       "      <th>F12</th>\n",
       "      <td>0.036955</td>\n",
       "      <td>-0.049717</td>\n",
       "      <td>0.004553</td>\n",
       "      <td>0.041286</td>\n",
       "      <td>0.005760</td>\n",
       "      <td>-0.000958</td>\n",
       "      <td>-0.005135</td>\n",
       "      <td>0.020446</td>\n",
       "      <td>-0.074935</td>\n",
       "      <td>0.048212</td>\n",
       "      <td>...</td>\n",
       "      <td>1.000000</td>\n",
       "      <td>-0.025697</td>\n",
       "      <td>0.000216</td>\n",
       "      <td>0.011339</td>\n",
       "      <td>-0.047893</td>\n",
       "      <td>0.031134</td>\n",
       "      <td>0.023085</td>\n",
       "      <td>-0.262439</td>\n",
       "      <td>-0.007732</td>\n",
       "      <td>0.028876</td>\n",
       "    </tr>\n",
       "    <tr>\n",
       "      <th>F13</th>\n",
       "      <td>-0.025375</td>\n",
       "      <td>0.049109</td>\n",
       "      <td>-0.062524</td>\n",
       "      <td>-0.057872</td>\n",
       "      <td>0.014207</td>\n",
       "      <td>-0.030887</td>\n",
       "      <td>-0.027272</td>\n",
       "      <td>0.012373</td>\n",
       "      <td>0.005803</td>\n",
       "      <td>-0.012591</td>\n",
       "      <td>...</td>\n",
       "      <td>-0.025697</td>\n",
       "      <td>1.000000</td>\n",
       "      <td>-0.045471</td>\n",
       "      <td>0.103306</td>\n",
       "      <td>0.026647</td>\n",
       "      <td>-0.018677</td>\n",
       "      <td>-0.041213</td>\n",
       "      <td>-0.009692</td>\n",
       "      <td>-0.009273</td>\n",
       "      <td>-0.018146</td>\n",
       "    </tr>\n",
       "    <tr>\n",
       "      <th>F14</th>\n",
       "      <td>-0.002052</td>\n",
       "      <td>-0.020466</td>\n",
       "      <td>0.296979</td>\n",
       "      <td>0.063753</td>\n",
       "      <td>0.008733</td>\n",
       "      <td>0.016723</td>\n",
       "      <td>0.037528</td>\n",
       "      <td>-0.021339</td>\n",
       "      <td>0.020361</td>\n",
       "      <td>0.041041</td>\n",
       "      <td>...</td>\n",
       "      <td>0.000216</td>\n",
       "      <td>-0.045471</td>\n",
       "      <td>1.000000</td>\n",
       "      <td>-0.040083</td>\n",
       "      <td>0.006373</td>\n",
       "      <td>0.021133</td>\n",
       "      <td>-0.014832</td>\n",
       "      <td>0.254483</td>\n",
       "      <td>-0.044801</td>\n",
       "      <td>-0.009307</td>\n",
       "    </tr>\n",
       "    <tr>\n",
       "      <th>F15</th>\n",
       "      <td>0.033486</td>\n",
       "      <td>-0.022925</td>\n",
       "      <td>0.042754</td>\n",
       "      <td>0.053769</td>\n",
       "      <td>0.003705</td>\n",
       "      <td>-0.025854</td>\n",
       "      <td>-0.228368</td>\n",
       "      <td>-0.000878</td>\n",
       "      <td>-0.005679</td>\n",
       "      <td>-0.055473</td>\n",
       "      <td>...</td>\n",
       "      <td>0.011339</td>\n",
       "      <td>0.103306</td>\n",
       "      <td>-0.040083</td>\n",
       "      <td>1.000000</td>\n",
       "      <td>0.033091</td>\n",
       "      <td>-0.010368</td>\n",
       "      <td>-0.014486</td>\n",
       "      <td>-0.010158</td>\n",
       "      <td>-0.022679</td>\n",
       "      <td>0.258222</td>\n",
       "    </tr>\n",
       "    <tr>\n",
       "      <th>F16</th>\n",
       "      <td>0.014877</td>\n",
       "      <td>-0.019222</td>\n",
       "      <td>-0.000864</td>\n",
       "      <td>0.012559</td>\n",
       "      <td>0.031534</td>\n",
       "      <td>0.025858</td>\n",
       "      <td>-0.002169</td>\n",
       "      <td>-0.026336</td>\n",
       "      <td>0.014585</td>\n",
       "      <td>0.069944</td>\n",
       "      <td>...</td>\n",
       "      <td>-0.047893</td>\n",
       "      <td>0.026647</td>\n",
       "      <td>0.006373</td>\n",
       "      <td>0.033091</td>\n",
       "      <td>1.000000</td>\n",
       "      <td>0.033451</td>\n",
       "      <td>-0.005132</td>\n",
       "      <td>0.003681</td>\n",
       "      <td>-0.002549</td>\n",
       "      <td>-0.041377</td>\n",
       "    </tr>\n",
       "    <tr>\n",
       "      <th>F17</th>\n",
       "      <td>-0.019288</td>\n",
       "      <td>-0.037403</td>\n",
       "      <td>0.016463</td>\n",
       "      <td>-0.045806</td>\n",
       "      <td>0.042314</td>\n",
       "      <td>0.025180</td>\n",
       "      <td>-0.014168</td>\n",
       "      <td>0.003288</td>\n",
       "      <td>0.018965</td>\n",
       "      <td>0.037891</td>\n",
       "      <td>...</td>\n",
       "      <td>0.031134</td>\n",
       "      <td>-0.018677</td>\n",
       "      <td>0.021133</td>\n",
       "      <td>-0.010368</td>\n",
       "      <td>0.033451</td>\n",
       "      <td>1.000000</td>\n",
       "      <td>0.092579</td>\n",
       "      <td>0.191022</td>\n",
       "      <td>-0.012279</td>\n",
       "      <td>-0.031054</td>\n",
       "    </tr>\n",
       "    <tr>\n",
       "      <th>F18</th>\n",
       "      <td>0.029807</td>\n",
       "      <td>-0.019879</td>\n",
       "      <td>0.287894</td>\n",
       "      <td>0.001481</td>\n",
       "      <td>0.064432</td>\n",
       "      <td>0.024911</td>\n",
       "      <td>-0.003312</td>\n",
       "      <td>-0.001644</td>\n",
       "      <td>-0.018222</td>\n",
       "      <td>0.011183</td>\n",
       "      <td>...</td>\n",
       "      <td>0.023085</td>\n",
       "      <td>-0.041213</td>\n",
       "      <td>-0.014832</td>\n",
       "      <td>-0.014486</td>\n",
       "      <td>-0.005132</td>\n",
       "      <td>0.092579</td>\n",
       "      <td>1.000000</td>\n",
       "      <td>0.008624</td>\n",
       "      <td>0.018811</td>\n",
       "      <td>0.069685</td>\n",
       "    </tr>\n",
       "    <tr>\n",
       "      <th>F19</th>\n",
       "      <td>-0.020761</td>\n",
       "      <td>0.070705</td>\n",
       "      <td>0.029493</td>\n",
       "      <td>0.037088</td>\n",
       "      <td>0.053084</td>\n",
       "      <td>-0.024538</td>\n",
       "      <td>0.004320</td>\n",
       "      <td>-0.047412</td>\n",
       "      <td>-0.024747</td>\n",
       "      <td>-0.000167</td>\n",
       "      <td>...</td>\n",
       "      <td>-0.262439</td>\n",
       "      <td>-0.009692</td>\n",
       "      <td>0.254483</td>\n",
       "      <td>-0.010158</td>\n",
       "      <td>0.003681</td>\n",
       "      <td>0.191022</td>\n",
       "      <td>0.008624</td>\n",
       "      <td>1.000000</td>\n",
       "      <td>-0.238497</td>\n",
       "      <td>0.012088</td>\n",
       "    </tr>\n",
       "    <tr>\n",
       "      <th>F20</th>\n",
       "      <td>-0.037730</td>\n",
       "      <td>-0.019158</td>\n",
       "      <td>0.123040</td>\n",
       "      <td>-0.033943</td>\n",
       "      <td>0.044764</td>\n",
       "      <td>0.026289</td>\n",
       "      <td>0.004537</td>\n",
       "      <td>0.019980</td>\n",
       "      <td>0.012361</td>\n",
       "      <td>-0.213338</td>\n",
       "      <td>...</td>\n",
       "      <td>-0.007732</td>\n",
       "      <td>-0.009273</td>\n",
       "      <td>-0.044801</td>\n",
       "      <td>-0.022679</td>\n",
       "      <td>-0.002549</td>\n",
       "      <td>-0.012279</td>\n",
       "      <td>0.018811</td>\n",
       "      <td>-0.238497</td>\n",
       "      <td>1.000000</td>\n",
       "      <td>0.000403</td>\n",
       "    </tr>\n",
       "    <tr>\n",
       "      <th>Class</th>\n",
       "      <td>0.048997</td>\n",
       "      <td>0.029837</td>\n",
       "      <td>0.018274</td>\n",
       "      <td>0.007510</td>\n",
       "      <td>0.026389</td>\n",
       "      <td>0.010464</td>\n",
       "      <td>-0.022172</td>\n",
       "      <td>0.027641</td>\n",
       "      <td>-0.045664</td>\n",
       "      <td>-0.039024</td>\n",
       "      <td>...</td>\n",
       "      <td>0.028876</td>\n",
       "      <td>-0.018146</td>\n",
       "      <td>-0.009307</td>\n",
       "      <td>0.258222</td>\n",
       "      <td>-0.041377</td>\n",
       "      <td>-0.031054</td>\n",
       "      <td>0.069685</td>\n",
       "      <td>0.012088</td>\n",
       "      <td>0.000403</td>\n",
       "      <td>1.000000</td>\n",
       "    </tr>\n",
       "  </tbody>\n",
       "</table>\n",
       "<p>21 rows × 21 columns</p>\n",
       "</div>"
      ],
      "text/plain": [
       "             F1        F2        F3        F4        F5        F6        F7  \\\n",
       "F1     1.000000 -0.006990 -0.049583  0.002111  0.006976  0.005681  0.039438   \n",
       "F2    -0.006990  1.000000 -0.009826 -0.050007 -0.007055  0.032559  0.012570   \n",
       "F3    -0.049583 -0.009826  1.000000  0.006406 -0.004322  0.009380  0.003282   \n",
       "F4     0.002111 -0.050007  0.006406  1.000000 -0.068408 -0.016058 -0.000217   \n",
       "F5     0.006976 -0.007055 -0.004322 -0.068408  1.000000  0.004205 -0.025508   \n",
       "F6     0.005681  0.032559  0.009380 -0.016058  0.004205  1.000000  0.025433   \n",
       "F7     0.039438  0.012570  0.003282 -0.000217 -0.025508  0.025433  1.000000   \n",
       "F8     0.005632 -0.042880  0.044698 -0.006108 -0.037295 -0.067913 -0.019820   \n",
       "F9    -0.049179 -0.011814  0.001953 -0.020217 -0.000686  0.010262  0.014276   \n",
       "F10   -0.045470 -0.016538  0.042462  0.027008 -0.006901  0.022900 -0.042789   \n",
       "F11    0.014594 -0.062860 -0.122382  0.236772 -0.061114  0.003917  0.003992   \n",
       "F12    0.036955 -0.049717  0.004553  0.041286  0.005760 -0.000958 -0.005135   \n",
       "F13   -0.025375  0.049109 -0.062524 -0.057872  0.014207 -0.030887 -0.027272   \n",
       "F14   -0.002052 -0.020466  0.296979  0.063753  0.008733  0.016723  0.037528   \n",
       "F15    0.033486 -0.022925  0.042754  0.053769  0.003705 -0.025854 -0.228368   \n",
       "F16    0.014877 -0.019222 -0.000864  0.012559  0.031534  0.025858 -0.002169   \n",
       "F17   -0.019288 -0.037403  0.016463 -0.045806  0.042314  0.025180 -0.014168   \n",
       "F18    0.029807 -0.019879  0.287894  0.001481  0.064432  0.024911 -0.003312   \n",
       "F19   -0.020761  0.070705  0.029493  0.037088  0.053084 -0.024538  0.004320   \n",
       "F20   -0.037730 -0.019158  0.123040 -0.033943  0.044764  0.026289  0.004537   \n",
       "Class  0.048997  0.029837  0.018274  0.007510  0.026389  0.010464 -0.022172   \n",
       "\n",
       "             F8        F9       F10  ...       F12       F13       F14  \\\n",
       "F1     0.005632 -0.049179 -0.045470  ...  0.036955 -0.025375 -0.002052   \n",
       "F2    -0.042880 -0.011814 -0.016538  ... -0.049717  0.049109 -0.020466   \n",
       "F3     0.044698  0.001953  0.042462  ...  0.004553 -0.062524  0.296979   \n",
       "F4    -0.006108 -0.020217  0.027008  ...  0.041286 -0.057872  0.063753   \n",
       "F5    -0.037295 -0.000686 -0.006901  ...  0.005760  0.014207  0.008733   \n",
       "F6    -0.067913  0.010262  0.022900  ... -0.000958 -0.030887  0.016723   \n",
       "F7    -0.019820  0.014276 -0.042789  ... -0.005135 -0.027272  0.037528   \n",
       "F8     1.000000  0.023469 -0.023646  ...  0.020446  0.012373 -0.021339   \n",
       "F9     0.023469  1.000000  0.042713  ... -0.074935  0.005803  0.020361   \n",
       "F10   -0.023646  0.042713  1.000000  ...  0.048212 -0.012591  0.041041   \n",
       "F11    0.021023  0.003868 -0.005760  ...  0.028827 -0.015558 -0.031391   \n",
       "F12    0.020446 -0.074935  0.048212  ...  1.000000 -0.025697  0.000216   \n",
       "F13    0.012373  0.005803 -0.012591  ... -0.025697  1.000000 -0.045471   \n",
       "F14   -0.021339  0.020361  0.041041  ...  0.000216 -0.045471  1.000000   \n",
       "F15   -0.000878 -0.005679 -0.055473  ...  0.011339  0.103306 -0.040083   \n",
       "F16   -0.026336  0.014585  0.069944  ... -0.047893  0.026647  0.006373   \n",
       "F17    0.003288  0.018965  0.037891  ...  0.031134 -0.018677  0.021133   \n",
       "F18   -0.001644 -0.018222  0.011183  ...  0.023085 -0.041213 -0.014832   \n",
       "F19   -0.047412 -0.024747 -0.000167  ... -0.262439 -0.009692  0.254483   \n",
       "F20    0.019980  0.012361 -0.213338  ... -0.007732 -0.009273 -0.044801   \n",
       "Class  0.027641 -0.045664 -0.039024  ...  0.028876 -0.018146 -0.009307   \n",
       "\n",
       "            F15       F16       F17       F18       F19       F20     Class  \n",
       "F1     0.033486  0.014877 -0.019288  0.029807 -0.020761 -0.037730  0.048997  \n",
       "F2    -0.022925 -0.019222 -0.037403 -0.019879  0.070705 -0.019158  0.029837  \n",
       "F3     0.042754 -0.000864  0.016463  0.287894  0.029493  0.123040  0.018274  \n",
       "F4     0.053769  0.012559 -0.045806  0.001481  0.037088 -0.033943  0.007510  \n",
       "F5     0.003705  0.031534  0.042314  0.064432  0.053084  0.044764  0.026389  \n",
       "F6    -0.025854  0.025858  0.025180  0.024911 -0.024538  0.026289  0.010464  \n",
       "F7    -0.228368 -0.002169 -0.014168 -0.003312  0.004320  0.004537 -0.022172  \n",
       "F8    -0.000878 -0.026336  0.003288 -0.001644 -0.047412  0.019980  0.027641  \n",
       "F9    -0.005679  0.014585  0.018965 -0.018222 -0.024747  0.012361 -0.045664  \n",
       "F10   -0.055473  0.069944  0.037891  0.011183 -0.000167 -0.213338 -0.039024  \n",
       "F11   -0.006837 -0.031515 -0.006606  0.009438 -0.010592  0.000484  0.216721  \n",
       "F12    0.011339 -0.047893  0.031134  0.023085 -0.262439 -0.007732  0.028876  \n",
       "F13    0.103306  0.026647 -0.018677 -0.041213 -0.009692 -0.009273 -0.018146  \n",
       "F14   -0.040083  0.006373  0.021133 -0.014832  0.254483 -0.044801 -0.009307  \n",
       "F15    1.000000  0.033091 -0.010368 -0.014486 -0.010158 -0.022679  0.258222  \n",
       "F16    0.033091  1.000000  0.033451 -0.005132  0.003681 -0.002549 -0.041377  \n",
       "F17   -0.010368  0.033451  1.000000  0.092579  0.191022 -0.012279 -0.031054  \n",
       "F18   -0.014486 -0.005132  0.092579  1.000000  0.008624  0.018811  0.069685  \n",
       "F19   -0.010158  0.003681  0.191022  0.008624  1.000000 -0.238497  0.012088  \n",
       "F20   -0.022679 -0.002549 -0.012279  0.018811 -0.238497  1.000000  0.000403  \n",
       "Class  0.258222 -0.041377 -0.031054  0.069685  0.012088  0.000403  1.000000  \n",
       "\n",
       "[21 rows x 21 columns]"
      ]
     },
     "execution_count": 12,
     "metadata": {},
     "output_type": "execute_result"
    }
   ],
   "source": [
    "df.corr()"
   ]
  },
  {
   "cell_type": "code",
   "execution_count": 13,
   "metadata": {
    "scrolled": true
   },
   "outputs": [
    {
     "data": {
      "text/plain": [
       "<AxesSubplot:>"
      ]
     },
     "execution_count": 13,
     "metadata": {},
     "output_type": "execute_result"
    },
    {
     "data": {
      "image/png": "[encoded data removed]",
      "text/plain": [
       "<Figure size 1296x1296 with 2 Axes>"
      ]
     },
     "metadata": {
      "needs_background": "light"
     },
     "output_type": "display_data"
    }
   ],
   "source": [
    "#Using Pearson Correlation\n",
    "\n",
    "plt.figure(figsize=(18,18))\n",
    "sns.heatmap(df.corr(),annot=True, cmap=plt.cm.CMRmap_r)"
   ]
  },
  {
   "cell_type": "code",
   "execution_count": 14,
   "metadata": {},
   "outputs": [],
   "source": [
    "def correlation(data, threshold):\n",
    "    col_corr=set()\n",
    "    corr_matrix = data.corr()\n",
    "    for i in range(len(corr_matrix.columns)):\n",
    "        for j in range(i):\n",
    "            if (corr_matrix.iloc[i,j])>threshold:\n",
    "                colname = corr_matrix.columns[i]\n",
    "                col_corr.add(colname)\n",
    "    return col_corr"
   ]
  },
  {
   "cell_type": "code",
   "execution_count": 15,
   "metadata": {},
   "outputs": [],
   "source": [
    "X = df.drop('Class', axis=1)\n",
    "Y = df['Class']\n",
    "X_train, X_test, y_train, y_test = train_test_split(X,Y, train_size=0.7, random_state=11, shuffle=True)"
   ]
  },
  {
   "cell_type": "code",
   "execution_count": 16,
   "metadata": {},
   "outputs": [
    {
     "data": {
      "text/plain": [
       "0"
      ]
     },
     "execution_count": 16,
     "metadata": {},
     "output_type": "execute_result"
    }
   ],
   "source": [
    "corr_features = correlation(X_train,0.7)\n",
    "len(set(corr_features))"
   ]
  },
  {
   "cell_type": "markdown",
   "metadata": {},
   "source": [
    "### Decision Tree Algorithm"
   ]
  },
  {
   "cell_type": "code",
   "execution_count": 17,
   "metadata": {},
   "outputs": [],
   "source": [
    "dtree = DecisionTreeClassifier()\n",
    "dtree.fit(X_train, y_train)\n",
    "p1 = dtree.predict(X_test)"
   ]
  },
  {
   "cell_type": "code",
   "execution_count": 18,
   "metadata": {},
   "outputs": [
    {
     "data": {
      "text/plain": [
       "array([[129,  23],\n",
       "       [ 25, 123]], dtype=int64)"
      ]
     },
     "execution_count": 18,
     "metadata": {},
     "output_type": "execute_result"
    }
   ],
   "source": [
    "confusion_matrix(y_test,p1)"
   ]
  },
  {
   "cell_type": "code",
   "execution_count": 19,
   "metadata": {},
   "outputs": [
    {
     "data": {
      "text/plain": [
       "'              precision    recall  f1-score   support\\n\\n       False       0.84      0.85      0.84       152\\n        True       0.84      0.83      0.84       148\\n\\n    accuracy                           0.84       300\\n   macro avg       0.84      0.84      0.84       300\\nweighted avg       0.84      0.84      0.84       300\\n'"
      ]
     },
     "execution_count": 19,
     "metadata": {},
     "output_type": "execute_result"
    }
   ],
   "source": [
    "classification_report(y_test,p1)"
   ]
  },
  {
   "cell_type": "code",
   "execution_count": 20,
   "metadata": {},
   "outputs": [
    {
     "data": {
      "text/plain": [
       "84.0"
      ]
     },
     "execution_count": 20,
     "metadata": {},
     "output_type": "execute_result"
    }
   ],
   "source": [
    "accuracy_score(y_test,p1)*100"
   ]
  },
  {
   "cell_type": "markdown",
   "metadata": {},
   "source": [
    "The Test accuracy for the Decision Tree model without a feature \"F21\" is 83%"
   ]
  },
  {
   "cell_type": "markdown",
   "metadata": {},
   "source": [
    "# Predicting the Missing Values in \"F21\""
   ]
  },
  {
   "cell_type": "markdown",
   "metadata": {},
   "source": [
    "The column \"F21\" contains 50% of missing continuous values.\n",
    "Predicting the missing continuous values using a regression algorithm - LinearRegressor"
   ]
  },
  {
   "cell_type": "code",
   "execution_count": 21,
   "metadata": {},
   "outputs": [],
   "source": [
    "def Predict_F21(df_main):\n",
    "    from sklearn.linear_model import LinearRegression\n",
    "\n",
    "    data = df_main.drop(\"Class\",axis=1).copy()\n",
    "    data_y = df_main[\"Class\"]\n",
    "\n",
    "    test_data = data[data[\"F21\"].isnull()]\n",
    "    data.dropna(inplace=True)\n",
    "\n",
    "    f21_y_train = data[\"F21\"]\n",
    "    f21_X_train = data.drop(\"F21\", axis=1)\n",
    "    f21_X_test = test_data.drop(\"F21\", axis=1)\n",
    "\n",
    "    model = LinearRegression()\n",
    "    model.fit(f21_X_train, f21_y_train)\n",
    "\n",
    "    f21_y_pred = model.predict(f21_X_test)\n",
    "    f21_test=f21_X_test.assign(F21=f21_y_pred)\n",
    "    full_data = pd.concat([data,f21_test])\n",
    "    return full_data"
   ]
  },
  {
   "cell_type": "code",
   "execution_count": 22,
   "metadata": {},
   "outputs": [],
   "source": [
    "data = df_main.drop(\"Class\",axis=1).copy()\n",
    "data_y = df_main[\"Class\"]\n",
    "full_data = Predict_F21(df_main)"
   ]
  },
  {
   "cell_type": "code",
   "execution_count": 23,
   "metadata": {},
   "outputs": [],
   "source": [
    "full_data.sort_index(axis = 0)\n",
    "full_data = full_data.assign(Class=data_y)"
   ]
  },
  {
   "cell_type": "code",
   "execution_count": 24,
   "metadata": {},
   "outputs": [],
   "source": [
    "X_fulldata = full_data.drop(\"Class\", axis=1)\n",
    "y_fulldata = full_data[\"Class\"]"
   ]
  },
  {
   "cell_type": "code",
   "execution_count": 25,
   "metadata": {},
   "outputs": [],
   "source": [
    "X_train1, X_test1, y_train1, y_test1 = train_test_split(X_fulldata,y_fulldata, train_size=0.7, random_state=9, shuffle=True)"
   ]
  },
  {
   "cell_type": "code",
   "execution_count": 26,
   "metadata": {},
   "outputs": [],
   "source": [
    "dtree = DecisionTreeClassifier()\n",
    "dtree.fit(X_train1, y_train1)\n",
    "p2 = dtree.predict(X_test1)"
   ]
  },
  {
   "cell_type": "code",
   "execution_count": 27,
   "metadata": {},
   "outputs": [
    {
     "data": {
      "text/plain": [
       "array([[122,  19],\n",
       "       [ 37, 122]], dtype=int64)"
      ]
     },
     "execution_count": 27,
     "metadata": {},
     "output_type": "execute_result"
    }
   ],
   "source": [
    "confusion_matrix(y_test1,p2)"
   ]
  },
  {
   "cell_type": "code",
   "execution_count": 28,
   "metadata": {},
   "outputs": [
    {
     "data": {
      "text/plain": [
       "81.33333333333333"
      ]
     },
     "execution_count": 28,
     "metadata": {},
     "output_type": "execute_result"
    }
   ],
   "source": [
    "accuracy_score(y_test1,p2)*100"
   ]
  },
  {
   "cell_type": "markdown",
   "metadata": {},
   "source": [
    "Using Linear regression algorithm, the feature \"F21\" Nan values are predicted. By using this complete dataset (without missing values), the accuracy of the decision tree is 81%.\n",
    "\n",
    "It's quite good score compared to the score of dataset with feature removed."
   ]
  },
  {
   "cell_type": "markdown",
   "metadata": {},
   "source": [
    "# Replacing the Nan values with mean values "
   ]
  },
  {
   "cell_type": "code",
   "execution_count": 29,
   "metadata": {},
   "outputs": [
    {
     "data": {
      "text/html": [
       "<div>\n",
       "<style scoped>\n",
       "    .dataframe tbody tr th:only-of-type {\n",
       "        vertical-align: middle;\n",
       "    }\n",
       "\n",
       "    .dataframe tbody tr th {\n",
       "        vertical-align: top;\n",
       "    }\n",
       "\n",
       "    .dataframe thead th {\n",
       "        text-align: right;\n",
       "    }\n",
       "</style>\n",
       "<table border=\"1\" class=\"dataframe\">\n",
       "  <thead>\n",
       "    <tr style=\"text-align: right;\">\n",
       "      <th></th>\n",
       "      <th>F1</th>\n",
       "      <th>F2</th>\n",
       "      <th>F3</th>\n",
       "      <th>F4</th>\n",
       "      <th>F5</th>\n",
       "      <th>F6</th>\n",
       "      <th>F7</th>\n",
       "      <th>F8</th>\n",
       "      <th>F9</th>\n",
       "      <th>F10</th>\n",
       "      <th>...</th>\n",
       "      <th>F13</th>\n",
       "      <th>F14</th>\n",
       "      <th>F15</th>\n",
       "      <th>F16</th>\n",
       "      <th>F17</th>\n",
       "      <th>F18</th>\n",
       "      <th>F19</th>\n",
       "      <th>F20</th>\n",
       "      <th>F21</th>\n",
       "      <th>Class</th>\n",
       "    </tr>\n",
       "  </thead>\n",
       "  <tbody>\n",
       "    <tr>\n",
       "      <th>0</th>\n",
       "      <td>1.6430</td>\n",
       "      <td>0</td>\n",
       "      <td>-4894.24</td>\n",
       "      <td>-13.0281</td>\n",
       "      <td>-4.793400</td>\n",
       "      <td>0</td>\n",
       "      <td>5.1270</td>\n",
       "      <td>-17.1100</td>\n",
       "      <td>-63.340</td>\n",
       "      <td>3.61690</td>\n",
       "      <td>...</td>\n",
       "      <td>5.783440</td>\n",
       "      <td>-11315.46</td>\n",
       "      <td>22912.53</td>\n",
       "      <td>-0.4</td>\n",
       "      <td>103811.34</td>\n",
       "      <td>5.4380</td>\n",
       "      <td>1747.920</td>\n",
       "      <td>-4879.68</td>\n",
       "      <td>-41.58</td>\n",
       "      <td>False</td>\n",
       "    </tr>\n",
       "    <tr>\n",
       "      <th>1</th>\n",
       "      <td>0.5310</td>\n",
       "      <td>0</td>\n",
       "      <td>-5085.44</td>\n",
       "      <td>-16.2210</td>\n",
       "      <td>-3.991776</td>\n",
       "      <td>0</td>\n",
       "      <td>4.6256</td>\n",
       "      <td>-4.5800</td>\n",
       "      <td>-10.314</td>\n",
       "      <td>3.64880</td>\n",
       "      <td>...</td>\n",
       "      <td>8.180000</td>\n",
       "      <td>-12852.96</td>\n",
       "      <td>25696.44</td>\n",
       "      <td>-0.4</td>\n",
       "      <td>103884.02</td>\n",
       "      <td>5.0960</td>\n",
       "      <td>1496.080</td>\n",
       "      <td>-4186.38</td>\n",
       "      <td>-45.96</td>\n",
       "      <td>True</td>\n",
       "    </tr>\n",
       "    <tr>\n",
       "      <th>2</th>\n",
       "      <td>0.2640</td>\n",
       "      <td>0</td>\n",
       "      <td>-7021.44</td>\n",
       "      <td>-11.7591</td>\n",
       "      <td>-6.161700</td>\n",
       "      <td>0</td>\n",
       "      <td>4.3628</td>\n",
       "      <td>-14.7118</td>\n",
       "      <td>-6.806</td>\n",
       "      <td>3.62830</td>\n",
       "      <td>...</td>\n",
       "      <td>5.760312</td>\n",
       "      <td>-11012.16</td>\n",
       "      <td>20232.84</td>\n",
       "      <td>-1.4</td>\n",
       "      <td>103987.08</td>\n",
       "      <td>2.3652</td>\n",
       "      <td>1523.412</td>\n",
       "      <td>-4067.28</td>\n",
       "      <td>NaN</td>\n",
       "      <td>False</td>\n",
       "    </tr>\n",
       "    <tr>\n",
       "      <th>3</th>\n",
       "      <td>0.3196</td>\n",
       "      <td>1</td>\n",
       "      <td>-4648.76</td>\n",
       "      <td>-11.8110</td>\n",
       "      <td>-4.217700</td>\n",
       "      <td>0</td>\n",
       "      <td>8.9380</td>\n",
       "      <td>-7.5360</td>\n",
       "      <td>-4.670</td>\n",
       "      <td>3.01503</td>\n",
       "      <td>...</td>\n",
       "      <td>6.437100</td>\n",
       "      <td>-10297.86</td>\n",
       "      <td>23592.84</td>\n",
       "      <td>-1.4</td>\n",
       "      <td>103842.08</td>\n",
       "      <td>4.4080</td>\n",
       "      <td>1506.810</td>\n",
       "      <td>1352.52</td>\n",
       "      <td>NaN</td>\n",
       "      <td>True</td>\n",
       "    </tr>\n",
       "    <tr>\n",
       "      <th>4</th>\n",
       "      <td>4.0800</td>\n",
       "      <td>0</td>\n",
       "      <td>-4877.20</td>\n",
       "      <td>-11.2635</td>\n",
       "      <td>-8.061000</td>\n",
       "      <td>1</td>\n",
       "      <td>6.2800</td>\n",
       "      <td>-14.5805</td>\n",
       "      <td>-45.920</td>\n",
       "      <td>3.60030</td>\n",
       "      <td>...</td>\n",
       "      <td>6.393200</td>\n",
       "      <td>-11527.38</td>\n",
       "      <td>24778.74</td>\n",
       "      <td>-1.4</td>\n",
       "      <td>103842.48</td>\n",
       "      <td>3.1334</td>\n",
       "      <td>1581.790</td>\n",
       "      <td>-5095.88</td>\n",
       "      <td>-45.93</td>\n",
       "      <td>True</td>\n",
       "    </tr>\n",
       "  </tbody>\n",
       "</table>\n",
       "<p>5 rows × 22 columns</p>\n",
       "</div>"
      ],
      "text/plain": [
       "       F1  F2       F3       F4        F5  F6      F7       F8      F9  \\\n",
       "0  1.6430   0 -4894.24 -13.0281 -4.793400   0  5.1270 -17.1100 -63.340   \n",
       "1  0.5310   0 -5085.44 -16.2210 -3.991776   0  4.6256  -4.5800 -10.314   \n",
       "2  0.2640   0 -7021.44 -11.7591 -6.161700   0  4.3628 -14.7118  -6.806   \n",
       "3  0.3196   1 -4648.76 -11.8110 -4.217700   0  8.9380  -7.5360  -4.670   \n",
       "4  4.0800   0 -4877.20 -11.2635 -8.061000   1  6.2800 -14.5805 -45.920   \n",
       "\n",
       "       F10  ...       F13       F14       F15  F16        F17     F18  \\\n",
       "0  3.61690  ...  5.783440 -11315.46  22912.53 -0.4  103811.34  5.4380   \n",
       "1  3.64880  ...  8.180000 -12852.96  25696.44 -0.4  103884.02  5.0960   \n",
       "2  3.62830  ...  5.760312 -11012.16  20232.84 -1.4  103987.08  2.3652   \n",
       "3  3.01503  ...  6.437100 -10297.86  23592.84 -1.4  103842.08  4.4080   \n",
       "4  3.60030  ...  6.393200 -11527.38  24778.74 -1.4  103842.48  3.1334   \n",
       "\n",
       "        F19      F20    F21  Class  \n",
       "0  1747.920 -4879.68 -41.58  False  \n",
       "1  1496.080 -4186.38 -45.96   True  \n",
       "2  1523.412 -4067.28    NaN  False  \n",
       "3  1506.810  1352.52    NaN   True  \n",
       "4  1581.790 -5095.88 -45.93   True  \n",
       "\n",
       "[5 rows x 22 columns]"
      ]
     },
     "execution_count": 29,
     "metadata": {},
     "output_type": "execute_result"
    }
   ],
   "source": [
    "d = df_main.copy()\n",
    "d.head()"
   ]
  },
  {
   "cell_type": "code",
   "execution_count": 30,
   "metadata": {},
   "outputs": [],
   "source": [
    "d['F21']=d['F21'].replace(np.NaN,d['F21'].mean())"
   ]
  },
  {
   "cell_type": "code",
   "execution_count": 31,
   "metadata": {},
   "outputs": [],
   "source": [
    "X_d = d.drop(\"Class\", axis=1)\n",
    "y_d = d[\"Class\"]"
   ]
  },
  {
   "cell_type": "code",
   "execution_count": 32,
   "metadata": {},
   "outputs": [],
   "source": [
    "X_train2, X_test2, y_train2, y_test2 = train_test_split(X_d,y_d, train_size=0.7, random_state=9, shuffle=True)"
   ]
  },
  {
   "cell_type": "code",
   "execution_count": 33,
   "metadata": {},
   "outputs": [],
   "source": [
    "dtree = DecisionTreeClassifier()\n",
    "dtree.fit(X_train2, y_train2)\n",
    "p3 = dtree.predict(X_test2)\n",
    "DT_acc=accuracy_score(y_test2,p3)*100"
   ]
  },
  {
   "cell_type": "code",
   "execution_count": 34,
   "metadata": {},
   "outputs": [
    {
     "data": {
      "text/plain": [
       "83.66666666666667"
      ]
     },
     "execution_count": 34,
     "metadata": {},
     "output_type": "execute_result"
    }
   ],
   "source": [
    "accuracy_score(y_test2,p3)*100"
   ]
  },
  {
   "cell_type": "markdown",
   "metadata": {},
   "source": [
    "By replacing the Nan values with mean values of that feature. The score obtained is 83%. \n",
    "\n",
    "By comparing the three methods for missing feature,\n",
    "We could find that predicting the missing values methodology gives better score than other two methods(removing feature and replace with mean values)\n",
    "\n",
    "Lets try with different algorithms\n"
   ]
  },
  {
   "cell_type": "markdown",
   "metadata": {},
   "source": [
    "# Different Algorithms:"
   ]
  },
  {
   "cell_type": "markdown",
   "metadata": {},
   "source": [
    "Let us use the complete dataset(predicted the missing values) with different algorithms to compare the accuracy score\n",
    "\n",
    "Train data - X_train1, y_train1\n",
    "\n",
    "Test Data - X_test1, y_test1\n",
    "\n",
    "Algorithms :\n",
    "\n",
    "        Logistic Regression\n",
    "        Random Forest\n",
    "        Support Vector Machine\n",
    "        Naive Bayes\n",
    "        K-Nearest Neighbour\n",
    "        "
   ]
  },
  {
   "cell_type": "code",
   "execution_count": 35,
   "metadata": {},
   "outputs": [
    {
     "data": {
      "text/plain": [
       "69.33333333333334"
      ]
     },
     "execution_count": 35,
     "metadata": {},
     "output_type": "execute_result"
    }
   ],
   "source": [
    "#LogisticRegression\n",
    "\n",
    "from sklearn.linear_model import LogisticRegression\n",
    "\n",
    "logreg = LogisticRegression(max_iter=500)\n",
    "logreg.fit(X_train1, y_train1)\n",
    "pred1 = logreg.predict(X_test1)\n",
    "classification_report(y_test1,pred1)\n",
    "LR_acc=accuracy_score(y_test1,pred1)*100\n",
    "accuracy_score(y_test1,pred1)*100"
   ]
  },
  {
   "cell_type": "code",
   "execution_count": 36,
   "metadata": {},
   "outputs": [
    {
     "data": {
      "text/plain": [
       "84.33333333333334"
      ]
     },
     "execution_count": 36,
     "metadata": {},
     "output_type": "execute_result"
    }
   ],
   "source": [
    "#Random Forest\n",
    "\n",
    "from sklearn.ensemble import RandomForestClassifier\n",
    "\n",
    "RF = RandomForestClassifier(n_estimators=500)\n",
    "RF.fit(X_train1, y_train1)\n",
    "pred2=RF.predict(X_test1)\n",
    "RF_acc = accuracy_score(y_test1,pred2)*100\n",
    "accuracy_score(y_test1,pred2)*100"
   ]
  },
  {
   "cell_type": "code",
   "execution_count": 37,
   "metadata": {},
   "outputs": [],
   "source": [
    "# Standardisation\n",
    "\n",
    "from sklearn.preprocessing import StandardScaler\n",
    "\n",
    "scaler = StandardScaler()\n",
    "scaler.fit(X_train1)\n",
    "X_train1 = scaler.transform(X_train1)\n",
    "X_test1 = scaler.transform(X_test1)"
   ]
  },
  {
   "cell_type": "code",
   "execution_count": 38,
   "metadata": {},
   "outputs": [
    {
     "data": {
      "text/plain": [
       "GridSearchCV(estimator=SVC(C=5),\n",
       "             param_grid={'C': [1, 3, 5, 10, 15],\n",
       "                         'kernel': ('linear', 'rbf', 'poly', 'sigmoid')})"
      ]
     },
     "execution_count": 38,
     "metadata": {},
     "output_type": "execute_result"
    }
   ],
   "source": [
    "#Choosing best Parm for SVM using GridSearchCV\n",
    "\n",
    "from sklearn import svm\n",
    "from sklearn.model_selection import GridSearchCV\n",
    "svc = svm.SVC(kernel='rbf', C =5)\n",
    "parameters = {'kernel':('linear', 'rbf','poly','sigmoid'), 'C':[1,3,5,10,15]}\n",
    "clf = GridSearchCV(svc, parameters)\n",
    "clf.fit(X_train1, y_train1)"
   ]
  },
  {
   "cell_type": "code",
   "execution_count": 39,
   "metadata": {},
   "outputs": [
    {
     "data": {
      "text/plain": [
       "{'C': 10, 'kernel': 'rbf'}"
      ]
     },
     "execution_count": 39,
     "metadata": {},
     "output_type": "execute_result"
    }
   ],
   "source": [
    "clf.best_params_"
   ]
  },
  {
   "cell_type": "code",
   "execution_count": 40,
   "metadata": {},
   "outputs": [
    {
     "data": {
      "text/plain": [
       "73.0"
      ]
     },
     "execution_count": 40,
     "metadata": {},
     "output_type": "execute_result"
    }
   ],
   "source": [
    "#SVM with best param\n",
    "\n",
    "svc = svm.SVC(kernel='rbf', C =10)\n",
    "svc.fit(X_train1,y_train1)\n",
    "pred3 = svc.predict(X_test1)\n",
    "svm_acc = accuracy_score(y_test1,pred3)*100\n",
    "accuracy_score(y_test1,pred3)*100"
   ]
  },
  {
   "cell_type": "code",
   "execution_count": 41,
   "metadata": {},
   "outputs": [
    {
     "data": {
      "text/plain": [
       "57.666666666666664"
      ]
     },
     "execution_count": 41,
     "metadata": {},
     "output_type": "execute_result"
    }
   ],
   "source": [
    "#Naive Bayes\n",
    "\n",
    "from sklearn.naive_bayes import GaussianNB\n",
    "GNB = GaussianNB()\n",
    "GNB.fit(X_train1, y_train1)\n",
    "pred4 = GNB.predict(X_test1)\n",
    "NB_acc = accuracy_score(y_test1,pred4)*100\n",
    "accuracy_score(y_test1,pred4)*100"
   ]
  },
  {
   "cell_type": "code",
   "execution_count": 42,
   "metadata": {},
   "outputs": [
    {
     "data": {
      "text/plain": [
       "71.33333333333334"
      ]
     },
     "execution_count": 42,
     "metadata": {},
     "output_type": "execute_result"
    }
   ],
   "source": [
    "#KNN\n",
    "\n",
    "from sklearn.neighbors import (NeighborhoodComponentsAnalysis, KNeighborsClassifier)\n",
    "from sklearn.pipeline import Pipeline\n",
    "\n",
    "nca = NeighborhoodComponentsAnalysis(random_state=42)\n",
    "knn = KNeighborsClassifier(n_neighbors=3)\n",
    "nca_pipe = Pipeline([('nca', nca), ('knn', knn)])\n",
    "nca_pipe.fit(X_train1, y_train1)\n",
    "nca_acc = nca_pipe.score(X_test1, y_test1)*100\n",
    "nca_pipe.score(X_test1, y_test1)*100"
   ]
  },
  {
   "cell_type": "markdown",
   "metadata": {},
   "source": [
    "# Choosing the best model "
   ]
  },
  {
   "cell_type": "markdown",
   "metadata": {},
   "source": [
    "Based on the accuracy from different model. Let us plot, compare and choose the best model."
   ]
  },
  {
   "cell_type": "code",
   "execution_count": 43,
   "metadata": {},
   "outputs": [
    {
     "data": {
      "text/plain": [
       "Text(0, 0.5, 'Accuracy in %')"
      ]
     },
     "execution_count": 43,
     "metadata": {},
     "output_type": "execute_result"
    },
    {
     "data": {
      "image/png": "[encoded data removed]",
      "text/plain": [
       "<Figure size 864x360 with 1 Axes>"
      ]
     },
     "metadata": {
      "needs_background": "light"
     },
     "output_type": "display_data"
    }
   ],
   "source": [
    "models = [\"Decision Tree\",\"Logistic Regression\", \"Random Forest\", \"Naive Bayes\", \"SVM\", \"KNN\"]\n",
    "accuracies = [DT_acc, LR_acc, RF_acc, NB_acc, svm_acc, nca_acc]\n",
    "plt.figure(figsize=(12,5))\n",
    "plt.bar(models,accuracies)\n",
    "plt.xlabel(\"Models\")\n",
    "plt.ylabel(\"Accuracy in %\")"
   ]
  },
  {
   "cell_type": "markdown",
   "metadata": {},
   "source": [
    "On Comparison, we could find that Random forest is having a highest accuracy of all. \n",
    "\n",
    "So for the next part, we are going to use Random Forest to predict the values."
   ]
  },
  {
   "cell_type": "markdown",
   "metadata": {},
   "source": [
    "### Part B"
   ]
  },
  {
   "cell_type": "code",
   "execution_count": 44,
   "metadata": {
    "scrolled": true
   },
   "outputs": [],
   "source": [
    "# HERE YOU WILL USE THIS TEMPLATE TO SAVE THE PREDICTIONS ON THE TEST SET\n",
    "\n",
    "# Load the test data\n",
    "test_df = pd.read_csv('P1_Test.csv')\n",
    "\n",
    "# Make sure you work on a copy\n",
    "test_data = test_df.iloc[:,:-1].copy()\n",
    "\n",
    "#Predicting the missing values in F21\n",
    "final_data = Predict_F21(test_df)\n",
    "\n",
    "#Predicting the Class\n",
    "predicted = RF.predict(final_data)\n",
    "\n",
    "# Replace the last (empty) column with your prediction\n",
    "test_df.iloc[:,-1] = predicted\n",
    "\n",
    "# Save to the destination file\n",
    "test_df.to_csv('P1_Test_Predictions.csv', index=False, float_format='%.8g')\n",
    "\n",
    "# IMPORTANT!! Make sure only the last column has changed\n",
    "assert pd.read_csv('P1_Test.csv').iloc[:,:-1].equals(pd.read_csv('P1_Test_Predictions.csv').iloc[:,:-1])"
   ]
  }
 ],
 "metadata": {
  "kernelspec": {
   "display_name": "Python 3",
   "language": "python",
   "name": "python3"
  },
  "language_info": {
   "codemirror_mode": {
    "name": "ipython",
    "version": 3
   },
   "file_extension": ".py",
   "mimetype": "text/x-python",
   "name": "python",
   "nbconvert_exporter": "python",
   "pygments_lexer": "ipython3",
   "version": "3.8.5"
  }
 },
 "nbformat": 4,
 "nbformat_minor": 4
}
